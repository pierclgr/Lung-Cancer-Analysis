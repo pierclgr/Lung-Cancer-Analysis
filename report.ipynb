{
 "cells": [
  {
   "cell_type": "markdown",
   "source": [
    "# DeepHealth Assignment \n",
    "The objective of this assignment is to quantitatvely and qualitatively evaluate the performances of a detection model that fits bounding boxes around lung nodules in CT scans."
   ],
   "metadata": {
    "collapsed": false
   },
   "id": "8dc68c5a76f77efc"
  },
  {
   "cell_type": "code",
   "outputs": [],
   "source": [],
   "metadata": {
    "collapsed": false
   },
   "id": "6730027a5be2d798"
  }
 ],
 "metadata": {
  "kernelspec": {
   "display_name": "Python 3",
   "language": "python",
   "name": "python3"
  },
  "language_info": {
   "codemirror_mode": {
    "name": "ipython",
    "version": 2
   },
   "file_extension": ".py",
   "mimetype": "text/x-python",
   "name": "python",
   "nbconvert_exporter": "python",
   "pygments_lexer": "ipython2",
   "version": "2.7.6"
  }
 },
 "nbformat": 4,
 "nbformat_minor": 5
}
